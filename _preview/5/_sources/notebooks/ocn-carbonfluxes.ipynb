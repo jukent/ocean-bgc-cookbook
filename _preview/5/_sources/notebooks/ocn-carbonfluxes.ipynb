{
 "cells": [
  {
   "cell_type": "markdown",
   "id": "ae197c81-f0bf-4d15-a561-e3611ded5dc3",
   "metadata": {},
   "source": [
    "# Ocean carbon fluxes"
   ]
  },
  {
   "cell_type": "markdown",
   "id": "ae6b2182-ff37-401d-af15-e1ebe75e6cba",
   "metadata": {},
   "source": [
    "---"
   ]
  },
  {
   "cell_type": "markdown",
   "id": "87f257d4-0016-4bb6-82e6-1a319c8f2965",
   "metadata": {
    "editable": true,
    "slideshow": {
     "slide_type": ""
    },
    "tags": []
   },
   "source": [
    "## Overview\n",
    "The carbon cycle is a key part of ocean biogeochemistry, and more broadly Earth's climate system. Here we learn how to make maps of some key variables modeled by CESM related to the marine carbon cycle.\n",
    "\n",
    "1. General setup\n",
    "2. Subsetting\n",
    "3. Processing data\n",
    "4. Making maps\n",
    "   \n",
    "TO DO: Add more narrative text, clean up comments, add references to compare global integral values to and learn about carbon cycle"
   ]
  },
  {
   "cell_type": "markdown",
   "id": "5e1ec953-6ee1-4c79-866f-e1bf1be59c50",
   "metadata": {},
   "source": [
    "## Prerequisites\n",
    "\n",
    "| Concepts | Importance | Notes |\n",
    "| --- | --- | --- |\n",
    "| [Dask Cookbook](https://projectpythia.org/dask-cookbook/README.html) | Helpful | |\n",
    "| [Intro to Xarray](https://foundations.projectpythia.org/core/xarray.html) | Helpful | |\n",
    "| [Matplotlib](https://foundations.projectpythia.org/core/matplotlib.html) | Necessary | |\n",
    "| [Intro to Cartopy](https://foundations.projectpythia.org/core/cartopy/cartopy.html) | Necessary | |\n",
    "\n",
    "\n",
    "- **Time to learn**: 15 min\n"
   ]
  },
  {
   "cell_type": "markdown",
   "id": "e3996534-5a79-416d-89e4-af6e7b464163",
   "metadata": {},
   "source": [
    "---"
   ]
  },
  {
   "cell_type": "markdown",
   "id": "fde4647a-3b38-47e9-8ad5-6a9070881abf",
   "metadata": {},
   "source": [
    "## Imports"
   ]
  },
  {
   "cell_type": "code",
   "execution_count": null,
   "id": "db97e886-1d2d-4a67-b84c-4b21a94aac59",
   "metadata": {},
   "outputs": [],
   "source": [
    "import xarray as xr\n",
    "import glob\n",
    "import numpy as np\n",
    "import matplotlib.pyplot as plt\n",
    "import cartopy\n",
    "import cartopy.crs as ccrs\n",
    "import pop_tools\n",
    "from dask.distributed import LocalCluster\n",
    "import dask\n",
    "import distributed\n",
    "import s3fs\n",
    "import netCDF4"
   ]
  },
  {
   "cell_type": "markdown",
   "id": "87ef5191-054f-44b1-99cd-24e3e0d356b2",
   "metadata": {},
   "source": [
    "## General setup (see intro notebooks for explanations)"
   ]
  },
  {
   "cell_type": "markdown",
   "id": "6236c713-c93e-491e-a0e8-e9febf2699f1",
   "metadata": {},
   "source": [
    "### Connect to cluster"
   ]
  },
  {
   "cell_type": "code",
   "execution_count": null,
   "id": "4b53d490-f653-4bc7-b4e3-d8488b096eb6",
   "metadata": {},
   "outputs": [],
   "source": [
    "cluster = LocalCluster()\n",
    "client = cluster.get_client()"
   ]
  },
  {
   "cell_type": "markdown",
   "id": "2ecc844d-a17e-4863-9b49-cd32054de807",
   "metadata": {},
   "source": [
    "### Bring in POP grid utilities"
   ]
  },
  {
   "cell_type": "code",
   "execution_count": null,
   "id": "624c230d-1d4a-413e-8caf-50ff95a56165",
   "metadata": {},
   "outputs": [],
   "source": [
    "ds_grid = pop_tools.get_grid('POP_gx1v7')\n",
    "lons = ds_grid.TLONG\n",
    "lats = ds_grid.TLAT\n",
    "depths = ds_grid.z_t * 0.01"
   ]
  },
  {
   "cell_type": "code",
   "execution_count": null,
   "id": "d1f1efc5-a878-4d00-bbac-d0185863bea3",
   "metadata": {},
   "outputs": [],
   "source": [
    "def adjust_pop_grid(tlon,tlat,field):\n",
    "    nj = tlon.shape[0]\n",
    "    ni = tlon.shape[1]\n",
    "    xL = int(ni/2 - 1)\n",
    "    xR = int(xL + ni)\n",
    "\n",
    "    tlon = np.where(np.greater_equal(tlon,min(tlon[:,0])),tlon-360.,tlon)\n",
    "    lon  = np.concatenate((tlon,tlon+360.),1)\n",
    "    lon = lon[:,xL:xR]\n",
    "\n",
    "    if ni == 320:\n",
    "        lon[367:-3,0] = lon[367:-3,0]+360.\n",
    "    lon = lon - 360.\n",
    "    lon = np.hstack((lon,lon[:,0:1]+360.))\n",
    "    if ni == 320:\n",
    "        lon[367:,-1] = lon[367:,-1] - 360.\n",
    "\n",
    "    # Trick cartopy into doing the right thing:\n",
    "    # it gets confused when the cyclic coords are identical\n",
    "    lon[:,0] = lon[:,0]-1e-8\n",
    "    \n",
    "    # Periodicity\n",
    "    lat  = np.concatenate((tlat,tlat),1)\n",
    "    lat = lat[:,xL:xR]\n",
    "    lat = np.hstack((lat,lat[:,0:1]))\n",
    "\n",
    "    field = np.ma.concatenate((field,field),1)\n",
    "    field = field[:,xL:xR]\n",
    "    field = np.ma.hstack((field,field[:,0:1]))\n",
    "    return lon,lat,field"
   ]
  },
  {
   "cell_type": "markdown",
   "id": "2cdc4f48-ec2a-4f63-a309-53803f476f7b",
   "metadata": {},
   "source": [
    "### Load the data"
   ]
  },
  {
   "cell_type": "code",
   "execution_count": null,
   "id": "2d8fc5b7-a91a-4592-abdb-0539bba0721f",
   "metadata": {},
   "outputs": [],
   "source": [
    "jetstream_url = 'https://js2.jetstream-cloud.org:8001/'\n",
    "\n",
    "s3 = s3fs.S3FileSystem(anon=True, client_kwargs=dict(endpoint_url=jetstream_url))\n",
    "\n",
    "# Generate a list of all files in the bucket\n",
    "s3path = 's3://pythia/ocean-bgc/cesm/g.e22.GOMIPECOIAF_JRA-1p4-2018.TL319_g17.4p2z.002branch/ocn/proc/tseries/month_1/*'\n",
    "remote_files = s3.glob(s3path)\n",
    "\n",
    "# Open all files from bucket\n",
    "fileset = [s3.open(file) for file in remote_files]\n",
    "\n",
    "# Open with xarray\n",
    "ds = xr.open_mfdataset(fileset, data_vars=\"minimal\", coords='minimal', compat=\"override\", parallel=True,\n",
    "                       drop_variables=[\"transport_components\", \"transport_regions\", 'moc_components'], decode_times=True)\n",
    "\n",
    "ds"
   ]
  },
  {
   "cell_type": "markdown",
   "id": "25f81a07-b21f-40ea-848a-b524ee78c280",
   "metadata": {},
   "source": [
    "## Subsetting"
   ]
  },
  {
   "cell_type": "code",
   "execution_count": null,
   "id": "69cc5b9d-8360-44ad-8509-7e13dad3a75b",
   "metadata": {},
   "outputs": [],
   "source": [
    "variables =['FG_CO2','photoC_TOT_zint','POC_FLUX_100m']\n",
    "keep_vars=['z_t','z_t_150m','dz','time_bound', 'time', 'TAREA','TLAT','TLONG'] + variables\n",
    "ds = ds.drop_vars([v for v in ds.variables if v not in keep_vars])"
   ]
  },
  {
   "cell_type": "markdown",
   "id": "9f3a04c6-f810-4fcb-bcb7-3786e06e1d80",
   "metadata": {},
   "source": [
    "## Processing - global means in time and space"
   ]
  },
  {
   "cell_type": "markdown",
   "id": "e6cb6cfa-758a-4eca-9249-ce550c2d732e",
   "metadata": {},
   "source": [
    "Pull in the functions we defined in the nutrients notebook..."
   ]
  },
  {
   "cell_type": "code",
   "execution_count": null,
   "id": "f6b93b4b-3e8d-4f20-a560-26e6d2e8a576",
   "metadata": {},
   "outputs": [],
   "source": [
    "def year_mean(ds):\n",
    "    \"\"\"\n",
    "    Properly convert monthly data to annual means, taking into account month lengths.\n",
    "    Source: https://ncar.github.io/esds/posts/2021/yearly-averages-xarray/\n",
    "    \"\"\"\n",
    "    \n",
    "    # Make a DataArray with the number of days in each month, size = len(time)\n",
    "    month_length = ds.time.dt.days_in_month\n",
    "\n",
    "    # Calculate the weights by grouping by 'time.season'\n",
    "    weights = (\n",
    "        month_length.groupby(\"time.year\") / month_length.groupby(\"time.year\").sum()\n",
    "    )\n",
    "\n",
    "    # Test that the sum of the weights for each season is 1.0\n",
    "    np.testing.assert_allclose(weights.groupby(\"time.year\").sum().values, np.ones((len(ds.groupby(\"time.year\")), )))\n",
    "\n",
    "    # Calculate the weighted average\n",
    "    return (ds * weights).groupby(\"time.year\").sum(dim=\"time\")\n",
    "    \n",
    "def global_mean(ds, ds_grid, compute_vars, normalize=True, include_ms=False):\n",
    "    \"\"\"\n",
    "    Compute the global mean on a POP dataset. \n",
    "    Return computed quantity in conventional units.\n",
    "    \"\"\"\n",
    "\n",
    "    other_vars = list(set(ds.variables) - set(compute_vars))\n",
    "\n",
    "    if include_ms: # marginal seas!\n",
    "        surface_mask = ds_grid.TAREA.where(ds_grid.KMT > 0).fillna(0.)\n",
    "    else:\n",
    "        surface_mask = ds_grid.TAREA.where(ds_grid.REGION_MASK > 0).fillna(0.)        \n",
    "    \n",
    "    masked_area = {\n",
    "        v: surface_mask.where(ds[v].notnull()).fillna(0.) \n",
    "        for v in compute_vars\n",
    "    }\n",
    "    \n",
    "    with xr.set_options(keep_attrs=True):\n",
    "        \n",
    "        dso = xr.Dataset({\n",
    "            v: (ds[v] * masked_area[v]).sum(['nlat', 'nlon'])\n",
    "            for v in compute_vars\n",
    "        })\n",
    "        \n",
    "        if normalize:\n",
    "            dso = xr.Dataset({\n",
    "                v: dso[v] / masked_area[v].sum(['nlat', 'nlon'])\n",
    "                for v in compute_vars\n",
    "            })            \n",
    "                \n",
    "    return dso"
   ]
  },
  {
   "cell_type": "markdown",
   "id": "4b529677-204d-47d5-92f1-6ef175a0f05d",
   "metadata": {
    "jp-MarkdownHeadingCollapsed": true
   },
   "source": [
    "Take the long-term mean of our data set. We process monthly to annual with our custom function, then use xarray's built-in `.mean()` function to process from annual data to a single mean over time, since each year is the same length."
   ]
  },
  {
   "cell_type": "code",
   "execution_count": null,
   "id": "40fa3690-1863-46ca-aa3c-e20b8cd5fa64",
   "metadata": {},
   "outputs": [],
   "source": [
    "ds = year_mean(ds).mean(\"year\")"
   ]
  },
  {
   "cell_type": "markdown",
   "id": "57377285-831e-4b00-a506-091184774340",
   "metadata": {},
   "source": [
    "### Do some global integrals, to check if our values look reasonable"
   ]
  },
  {
   "cell_type": "markdown",
   "id": "a6891e67-09dd-4499-8610-fa48438dab71",
   "metadata": {},
   "source": [
    "- [Takahashi et al., 2002](https://www.sciencedirect.com/science/article/pii/S0967064502000036)\n",
    "- [Behrenfeld and Falkowski, 1997](https://aslopubs.onlinelibrary.wiley.com/doi/10.4319/lo.1997.42.1.0001)\n",
    "- [DeVries and Weber, 2017](https://agupubs.onlinelibrary.wiley.com/doi/10.1002/2016GB005551)"
   ]
  },
  {
   "cell_type": "code",
   "execution_count": null,
   "id": "a3d378c2-3d41-471e-b3f0-b3bad046797e",
   "metadata": {},
   "outputs": [],
   "source": [
    "ds_glb = global_mean(ds, ds_grid, variables,normalize=False).compute()\n",
    "\n",
    "nmols_to_PgCyr = 1e-9 * 12. * 1e-15 * 365. * 86400.\n",
    "\n",
    "for v in variables:\n",
    "    ds_glb[v] = ds_glb[v] * nmols_to_PgCyr        \n",
    "    ds_glb[v].attrs['units'] = 'Pg C yr$^{-1}$'\n",
    "    \n",
    "ds_glb"
   ]
  },
  {
   "cell_type": "markdown",
   "id": "c791e98f-adee-4bbc-863f-98c59d024168",
   "metadata": {},
   "source": [
    "## Make some maps"
   ]
  },
  {
   "cell_type": "markdown",
   "id": "c74cfe00-cde7-4401-b000-690abbc050b9",
   "metadata": {},
   "source": [
    "First, convert from mmol/m3 cm/s to mmol/m2/day."
   ]
  },
  {
   "cell_type": "code",
   "execution_count": null,
   "id": "f11a3dd9-1aa3-435a-809d-5ecc6c47b1f5",
   "metadata": {},
   "outputs": [],
   "source": [
    "for var in variables:\n",
    "    ds[var] = ds[var] * 0.01 * 86400."
   ]
  },
  {
   "cell_type": "markdown",
   "id": "54b4b784-9c1d-4c95-ae42-90de341a92c4",
   "metadata": {},
   "source": [
    "Then, make a few maps of key carbon-related variables."
   ]
  },
  {
   "cell_type": "code",
   "execution_count": null,
   "id": "279b9a08-ef87-4b9f-99d2-2eda27879562",
   "metadata": {},
   "outputs": [],
   "source": [
    "fig = plt.figure(figsize=(8,12))\n",
    "\n",
    "ax = fig.add_subplot(3,1,1, projection=ccrs.Robinson(central_longitude=305.0))\n",
    "ax.set_title('a) Air-sea CO$_2$ flux', fontsize=12,loc='left')\n",
    "lon, lat, field = adjust_pop_grid(lons, lats,  ds.FG_CO2)\n",
    "pc=ax.pcolormesh(lon, lat, field, cmap='bwr',vmin=-5,vmax=5,transform=ccrs.PlateCarree())\n",
    "land = cartopy.feature.NaturalEarthFeature('physical', 'land', scale='110m', edgecolor='k', facecolor='white', linewidth=0.5)\n",
    "ax.add_feature(land)\n",
    "\n",
    "cbar1 = fig.colorbar(pc, ax=ax,extend='both',label='mmol m$^{-2}$ d$^{-1}$')\n",
    "\n",
    "\n",
    "ax = fig.add_subplot(3,1,2, projection=ccrs.Robinson(central_longitude=305.0))\n",
    "ax.set_title('b) NPP', fontsize=12,loc='left')\n",
    "lon, lat, field = adjust_pop_grid(lons, lats,  ds.photoC_TOT_zint)\n",
    "pc=ax.pcolormesh(lon, lat, field, cmap='jet',vmin=0,vmax=100,transform=ccrs.PlateCarree())\n",
    "land = cartopy.feature.NaturalEarthFeature('physical', 'land', scale='110m', edgecolor='k', facecolor='white', linewidth=0.5)\n",
    "ax.add_feature(land)\n",
    "\n",
    "cbar1 = fig.colorbar(pc, ax=ax,extend='max',label='mmol m$^{-2}$ d$^{-1}$')\n",
    "\n",
    "ax = fig.add_subplot(3,1,3, projection=ccrs.Robinson(central_longitude=305.0))\n",
    "ax.set_title('c) POC flux at 100m', fontsize=12,loc='left')\n",
    "lon, lat, field = adjust_pop_grid(lons, lats,  ds.POC_FLUX_100m)\n",
    "pc=ax.pcolormesh(lon, lat, field, cmap='jet',vmin=0,vmax=10,transform=ccrs.PlateCarree())\n",
    "land = cartopy.feature.NaturalEarthFeature('physical', 'land', scale='110m', edgecolor='k', facecolor='white', linewidth=0.5)\n",
    "ax.add_feature(land)\n",
    "\n",
    "cbar1 = fig.colorbar(pc, ax=ax,extend='max',label='mmol m$^{-2}$ d$^{-1}$');"
   ]
  },
  {
   "cell_type": "markdown",
   "id": "3cb23a54-4e0e-443e-8a98-4d4c028bd5c7",
   "metadata": {},
   "source": [
    "And close the Dask cluster we spun up at the beginning."
   ]
  },
  {
   "cell_type": "code",
   "execution_count": null,
   "id": "a622d954-71fa-4346-9c56-3b28f7ba5b9a",
   "metadata": {},
   "outputs": [],
   "source": [
    "cluster.close()"
   ]
  },
  {
   "cell_type": "markdown",
   "id": "451e59f8-e56b-434a-90a3-c839425cbb29",
   "metadata": {},
   "source": [
    "---"
   ]
  },
  {
   "cell_type": "markdown",
   "id": "085715ed-ab20-4937-a3a8-e7e0c1719c3f",
   "metadata": {},
   "source": [
    "## Summary\n",
    "You've learned how to make maps of some key quantities related to oceanic carbon."
   ]
  },
  {
   "cell_type": "markdown",
   "id": "479d98be-fc87-4ffb-8304-5dfff26b4eff",
   "metadata": {},
   "source": [
    "## Resources and references\n",
    "- [Sarmiento and Gruber, Chapter 8: The Carbon Cycle](https://doi.org/10.2307/j.ctt3fgxqx.12)"
   ]
  }
 ],
 "metadata": {
  "language_info": {
   "name": "python"
  }
 },
 "nbformat": 4,
 "nbformat_minor": 5
}
